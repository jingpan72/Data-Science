{
 "cells": [
  {
   "cell_type": "markdown",
   "metadata": {},
   "source": [
    "Exercise 2 -Title: Create and Share Your Jupyter Notebook"
   ]
  },
  {
   "cell_type": "markdown",
   "metadata": {},
   "source": [
    "Exercise 3 - Introduction: Jupyter lab for Data Science Class"
   ]
  },
  {
   "cell_type": "markdown",
   "metadata": {},
   "source": [
    "Exercise 4 - Create a markdown cell to list data science languages. \n",
    "1. Python\n",
    "\n",
    "2. R:\n",
    "\n",
    "3. SQL (Structured Query Language)\n",
    "\n",
    "4. Julia:\n",
    "\n",
    "5. Java:\n"
   ]
  },
  {
   "cell_type": "markdown",
   "metadata": {},
   "source": [
    "Exercise 5 - Create a markdown cell to list data science libraries\n",
    "Data Science Libarary in Python:\n",
    "1. Numpy\n",
    "2. Panda\n",
    "3. Tensorflow\n",
    "4. Matplotlib\n",
    "5. Seaborn\n",
    "6. Scikit-learn\n",
    "7. NLTK\n",
    "6. Scipy\n",
    "\n"
   ]
  },
  {
   "cell_type": "markdown",
   "metadata": {},
   "source": [
    "Exercise 6 - Create a markdown cell with a table of Data Science tools\n",
    "Data Science Tools:\n",
    "    1. Python\n",
    "    2. R\n",
    "    3.SQL\n",
    "    4. PowerBI\n",
    "    5. Excel\n",
    "    6. Github and Gitlab\n",
    "    7. database servers , cloud services\n",
    "    "
   ]
  },
  {
   "cell_type": "markdown",
   "metadata": {},
   "source": [
    "Exercise 7 - Create a markdown cell introducing arithmetic expression example\n",
    "Addition:\n",
    "Example : 3 + 6\n",
    "\n",
    "Subtraction:\n",
    "Example : 13 - 2\n",
    "\n",
    "Multiplication:\n",
    "Example : 9 * 7\n",
    "\n",
    "Division:\n",
    "Example : 12 / 4\n"
   ]
  },
  {
   "cell_type": "code",
   "execution_count": 2,
   "metadata": {},
   "outputs": [
    {
     "name": "stdout",
     "output_type": "stream",
     "text": [
      "12\n"
     ]
    }
   ],
   "source": [
    "#Exercise 8 - Create a code cell to multiply and add numbers\n",
    "A = 3 * 4\n",
    "print (A)"
   ]
  },
  {
   "cell_type": "code",
   "execution_count": 30,
   "metadata": {},
   "outputs": [
    {
     "name": "stdout",
     "output_type": "stream",
     "text": [
      "120\n"
     ]
    }
   ],
   "source": [
    "#Exercise 9 - Create a code cell to convert minutes to hours\n",
    "def hour_to_min(hour):\n",
    "    minute = hour * 60\n",
    "    return minute\n",
    "\n",
    "# Print the result\n",
    "result = hour_to_min(2)\n",
    "print(result)"
   ]
  },
  {
   "cell_type": "markdown",
   "metadata": {},
   "source": [
    "Exercise 10 -Insert a markdown cell to list Objectives\n",
    "1. Expertise in Python\n",
    "2. Familar with machine learning library\n",
    "3. Build up communication skills of Data Architect "
   ]
  },
  {
   "cell_type": "markdown",
   "metadata": {},
   "source": [
    "Exercise 11: Create a markdown cell to indicate the Author’s name\n",
    "Author: Jing Pan"
   ]
  }
 ],
 "metadata": {
  "kernelspec": {
   "display_name": "Python 3",
   "language": "python",
   "name": "python3"
  },
  "language_info": {
   "codemirror_mode": {
    "name": "ipython",
    "version": 3
   },
   "file_extension": ".py",
   "mimetype": "text/x-python",
   "name": "python",
   "nbconvert_exporter": "python",
   "pygments_lexer": "ipython3",
   "version": "3.7.1"
  }
 },
 "nbformat": 4,
 "nbformat_minor": 2
}
